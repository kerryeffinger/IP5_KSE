{
 "cells": [
  {
   "cell_type": "markdown",
   "metadata": {},
   "source": [
    "# Individual Project 4: Exploratory Data Analysis\n",
    "**Author:** Kerry Effinger  \n",
    "**Version:** 1.0  \n",
    "**Summary:**  "
   ]
  },
  {
   "cell_type": "code",
   "execution_count": 93,
   "metadata": {},
   "outputs": [],
   "source": [
    "import matplotlib.pyplot as plt\n",
    "import pandas as pd\n",
    "import seaborn as sns\n",
    "import numpy as np\n",
    "%matplotlib inline"
   ]
  },
  {
   "cell_type": "markdown",
   "metadata": {},
   "source": [
    "Loading dataset to notebook"
   ]
  },
  {
   "cell_type": "code",
   "execution_count": 2,
   "metadata": {},
   "outputs": [],
   "source": [
    "data = pd.read_csv('GenderData2.csv')"
   ]
  },
  {
   "cell_type": "markdown",
   "metadata": {},
   "source": [
    "### Exploring data, and cleaning it up."
   ]
  },
  {
   "cell_type": "code",
   "execution_count": 203,
   "metadata": {},
   "outputs": [],
   "source": [
    "#data.dtypes"
   ]
  },
  {
   "cell_type": "markdown",
   "metadata": {},
   "source": [
    "Although some columns still have long names, I renamed them from the original names to be more condensed while still being understandable."
   ]
  },
  {
   "cell_type": "code",
   "execution_count": 3,
   "metadata": {},
   "outputs": [],
   "source": [
    "data.columns = ['Time', 'Year', 'Country', 'Country Code', 'Females in NatSci/Math/Stats programs(%)', 'GDP Per Capita(current US$)',\n",
    "               'Gov expenditure per student', 'Female Life Expectancy', 'Male Life Expectancy', 'Population','Female Population',\n",
    "                'Female Pop(% of total)', 'Females in STEM programs(%)', 'Female Primary Graduation(%)', 'Male Primary Graduation(%)',\n",
    "               'Female Tertiary Graduation(%)', 'Male Tertiary Graduation(%)', 'Youth Literacy',\n",
    "                'A woman can get a job in the same way as a man (1=yes; 0=no)',\n",
    "               'A woman can open a bank account in the same way as a man (1=yes; 0=no)',\n",
    "               'A woman can choose where to live in the same way as a man (1=yes; 0=no)',\n",
    "               'First Marriage female', 'First Marriage male', \n",
    "               'Sons and daughters have equal rights to inherit assets from their parents (1=yes; 0=no)',\n",
    "               'Employed children, Male', 'Employed Children, Female', 'Total Labor Force', 'Female Labor Force',\n",
    "               'Female Labor Force (% of total)', 'Female Retirement Age', 'Male Retirement Age']"
   ]
  },
  {
   "cell_type": "markdown",
   "metadata": {},
   "source": [
    "The following cells were used to count how many rows in each column contained missing data, either 'na' or '..'"
   ]
  },
  {
   "cell_type": "code",
   "execution_count": null,
   "metadata": {},
   "outputs": [],
   "source": [
    "#data['column name'].isna().sum()"
   ]
  },
  {
   "cell_type": "code",
   "execution_count": 4,
   "metadata": {},
   "outputs": [
    {
     "data": {
      "text/plain": [
       "3"
      ]
     },
     "execution_count": 4,
     "metadata": {},
     "output_type": "execute_result"
    }
   ],
   "source": [
    "data['Time'].isna().sum()"
   ]
  },
  {
   "cell_type": "code",
   "execution_count": 5,
   "metadata": {},
   "outputs": [
    {
     "data": {
      "text/plain": [
       "961"
      ]
     },
     "execution_count": 5,
     "metadata": {},
     "output_type": "execute_result"
    }
   ],
   "source": [
    "len(data[data['Male Retirement Age'] == '..'])\n"
   ]
  },
  {
   "cell_type": "markdown",
   "metadata": {},
   "source": [
    "Somehow, two of the columns contained no data, so I went ahead and deleted them since they would not be useful. The year column was also a repeat of the time column so I deleted it. The first marriage columns were about 90% missing, so I deleted them as well. "
   ]
  },
  {
   "cell_type": "code",
   "execution_count": 8,
   "metadata": {},
   "outputs": [],
   "source": [
    "#data2.drop\n",
    "data3 = data.drop([\"Year\", \"Employed children, Male\", \"Employed Children, Female\", \"First Marriage female\", \"First Marriage male\"], axis=1)"
   ]
  },
  {
   "cell_type": "code",
   "execution_count": 112,
   "metadata": {},
   "outputs": [],
   "source": [
    "#data.describe()"
   ]
  },
  {
   "cell_type": "markdown",
   "metadata": {},
   "source": [
    "Dropping the rows at the end of the dataframe since they do not contain any useful information."
   ]
  },
  {
   "cell_type": "code",
   "execution_count": 35,
   "metadata": {},
   "outputs": [],
   "source": [
    "data4 = data3.drop([data.index[1315], data.index[1316], data.index[1317], data.index[1318], data.index[1319]])"
   ]
  },
  {
   "cell_type": "code",
   "execution_count": 12,
   "metadata": {},
   "outputs": [
    {
     "data": {
      "text/plain": [
       "0             ..\n",
       "1       21.77293\n",
       "2       20.29085\n",
       "3             ..\n",
       "4             ..\n",
       "          ...   \n",
       "1310          ..\n",
       "1311          ..\n",
       "1312          ..\n",
       "1313          ..\n",
       "1314          ..\n",
       "Name: Gov expenditure per student, Length: 1315, dtype: object"
      ]
     },
     "execution_count": 12,
     "metadata": {},
     "output_type": "execute_result"
    }
   ],
   "source": [
    "data4['Gov expenditure per student']"
   ]
  },
  {
   "cell_type": "code",
   "execution_count": 60,
   "metadata": {},
   "outputs": [],
   "source": [
    "data4['Population'] = data4['Population'].replace(to_replace =[\"..\"],\n",
    "                            value = 0).astype(float)"
   ]
  },
  {
   "cell_type": "code",
   "execution_count": 155,
   "metadata": {},
   "outputs": [
    {
     "data": {
      "text/plain": [
       "42      0.91057\n",
       "115         NaN\n",
       "676         NaN\n",
       "1230        NaN\n",
       "934         NaN\n",
       "516     1.00761\n",
       "815     0.91937\n",
       "759         NaN\n",
       "937         NaN\n",
       "734     1.04718\n",
       "Name: Youth Literacy, dtype: float64"
      ]
     },
     "execution_count": 155,
     "metadata": {},
     "output_type": "execute_result"
    }
   ],
   "source": [
    "data4['Youth Literacy'].sample(10)"
   ]
  },
  {
   "cell_type": "markdown",
   "metadata": {},
   "source": [
    "The following cells are messy looking, but they are to replace the empty cells that contain '..' with 0 and then to change the whole column to float data type."
   ]
  },
  {
   "cell_type": "code",
   "execution_count": 72,
   "metadata": {},
   "outputs": [],
   "source": [
    "data4['Females in NatSci/Math/Stats programs(%)'] = data4['Females in NatSci/Math/Stats programs(%)'].replace(to_replace =[\"..\"],value = 0).astype(float)"
   ]
  },
  {
   "cell_type": "code",
   "execution_count": 74,
   "metadata": {},
   "outputs": [],
   "source": [
    "data4['GDP Per Capita(current US$)'] = data4['GDP Per Capita(current US$)'].replace(to_replace =[\"..\"],\n",
    "                            value = 0).astype(float)"
   ]
  },
  {
   "cell_type": "code",
   "execution_count": 82,
   "metadata": {},
   "outputs": [],
   "source": [
    "data4[['Gov expenditure per student', 'Female Pop(% of total)', 'Females in STEM programs(%)', \n",
    "       'Female Primary Graduation(%)', 'Male Primary Graduation(%)',\n",
    "        'Female Tertiary Graduation(%)', 'Male Tertiary Graduation(%)', 'Youth Literacy']]=data4[['Gov expenditure per student', 'Female Pop(% of total)',\n",
    "                                                                                                  'Females in STEM programs(%)', 'Female Primary Graduation(%)', 'Male Primary Graduation(%)',\n",
    "                                                                                                  'Female Tertiary Graduation(%)', 'Male Tertiary Graduation(%)',\n",
    "                                                                                                  'Youth Literacy']].replace(to_replace =[\"..\"],value = 0).astype(float)"
   ]
  },
  {
   "cell_type": "code",
   "execution_count": 89,
   "metadata": {},
   "outputs": [],
   "source": [
    "data4[['Female Population','Total Labor Force',\n",
    "       'Female Labor Force',\n",
    "       'Female Labor Force (% of total)','Female Retirement Age',\n",
    "       'Male Retirement Age']] = data4[['Female Population','Total Labor Force',\n",
    "                                        'Female Labor Force','Female Labor Force (% of total)','Female Retirement Age','Male Retirement Age']].replace(to_replace =[\"..\"],value = 0).astype(float)"
   ]
  },
  {
   "cell_type": "code",
   "execution_count": 77,
   "metadata": {},
   "outputs": [],
   "source": [
    "data4[['Female Life Expectancy','Male Life Expectancy']] = data4[['Female Life Expectancy','Male Life Expectancy']].replace(to_replace =[\"..\"],\n",
    "                            value = 0).astype(float)"
   ]
  },
  {
   "cell_type": "markdown",
   "metadata": {},
   "source": [
    "Now I replace all the 0s with NaN so they are ignored when calculating summary statistics. "
   ]
  },
  {
   "cell_type": "code",
   "execution_count": 94,
   "metadata": {},
   "outputs": [],
   "source": [
    "data4 = data4.replace(0, np.NaN)"
   ]
  },
  {
   "cell_type": "markdown",
   "metadata": {},
   "source": [
    "finding summary statistics"
   ]
  },
  {
   "cell_type": "code",
   "execution_count": 95,
   "metadata": {},
   "outputs": [
    {
     "data": {
      "text/html": [
       "<div>\n",
       "<style scoped>\n",
       "    .dataframe tbody tr th:only-of-type {\n",
       "        vertical-align: middle;\n",
       "    }\n",
       "\n",
       "    .dataframe tbody tr th {\n",
       "        vertical-align: top;\n",
       "    }\n",
       "\n",
       "    .dataframe thead th {\n",
       "        text-align: right;\n",
       "    }\n",
       "</style>\n",
       "<table border=\"1\" class=\"dataframe\">\n",
       "  <thead>\n",
       "    <tr style=\"text-align: right;\">\n",
       "      <th></th>\n",
       "      <th>Females in NatSci/Math/Stats programs(%)</th>\n",
       "      <th>GDP Per Capita(current US$)</th>\n",
       "      <th>Gov expenditure per student</th>\n",
       "      <th>Female Life Expectancy</th>\n",
       "      <th>Male Life Expectancy</th>\n",
       "      <th>Population</th>\n",
       "      <th>Female Population</th>\n",
       "      <th>Female Pop(% of total)</th>\n",
       "      <th>Females in STEM programs(%)</th>\n",
       "      <th>Female Primary Graduation(%)</th>\n",
       "      <th>Male Primary Graduation(%)</th>\n",
       "      <th>Female Tertiary Graduation(%)</th>\n",
       "      <th>Male Tertiary Graduation(%)</th>\n",
       "      <th>Youth Literacy</th>\n",
       "      <th>Total Labor Force</th>\n",
       "      <th>Female Labor Force</th>\n",
       "      <th>Female Labor Force (% of total)</th>\n",
       "      <th>Female Retirement Age</th>\n",
       "      <th>Male Retirement Age</th>\n",
       "    </tr>\n",
       "  </thead>\n",
       "  <tbody>\n",
       "    <tr>\n",
       "      <th>count</th>\n",
       "      <td>223.000000</td>\n",
       "      <td>981.000000</td>\n",
       "      <td>159.000000</td>\n",
       "      <td>736.000000</td>\n",
       "      <td>736.000000</td>\n",
       "      <td>1.048000e+03</td>\n",
       "      <td>9.560000e+02</td>\n",
       "      <td>956.000000</td>\n",
       "      <td>224.000000</td>\n",
       "      <td>302.000000</td>\n",
       "      <td>302.000000</td>\n",
       "      <td>233.000000</td>\n",
       "      <td>232.000000</td>\n",
       "      <td>293.000000</td>\n",
       "      <td>1.165000e+03</td>\n",
       "      <td>9.320000e+02</td>\n",
       "      <td>932.000000</td>\n",
       "      <td>354.000000</td>\n",
       "      <td>354.000000</td>\n",
       "    </tr>\n",
       "    <tr>\n",
       "      <th>mean</th>\n",
       "      <td>55.923183</td>\n",
       "      <td>16081.279274</td>\n",
       "      <td>16.242152</td>\n",
       "      <td>74.755278</td>\n",
       "      <td>69.938647</td>\n",
       "      <td>3.061834e+08</td>\n",
       "      <td>1.664384e+08</td>\n",
       "      <td>49.900085</td>\n",
       "      <td>34.821329</td>\n",
       "      <td>89.258155</td>\n",
       "      <td>88.479417</td>\n",
       "      <td>38.003553</td>\n",
       "      <td>25.665988</td>\n",
       "      <td>0.970135</td>\n",
       "      <td>1.534065e+08</td>\n",
       "      <td>5.965637e+07</td>\n",
       "      <td>40.933041</td>\n",
       "      <td>60.321610</td>\n",
       "      <td>61.637006</td>\n",
       "    </tr>\n",
       "    <tr>\n",
       "      <th>std</th>\n",
       "      <td>15.711556</td>\n",
       "      <td>23749.822875</td>\n",
       "      <td>6.521815</td>\n",
       "      <td>7.747380</td>\n",
       "      <td>7.196094</td>\n",
       "      <td>9.639405e+08</td>\n",
       "      <td>4.964256e+08</td>\n",
       "      <td>3.028768</td>\n",
       "      <td>9.194310</td>\n",
       "      <td>21.916314</td>\n",
       "      <td>21.521679</td>\n",
       "      <td>21.050899</td>\n",
       "      <td>14.782116</td>\n",
       "      <td>0.061729</td>\n",
       "      <td>4.576223e+08</td>\n",
       "      <td>1.764472e+08</td>\n",
       "      <td>9.083822</td>\n",
       "      <td>4.255926</td>\n",
       "      <td>3.741561</td>\n",
       "    </tr>\n",
       "    <tr>\n",
       "      <th>min</th>\n",
       "      <td>10.695740</td>\n",
       "      <td>261.247473</td>\n",
       "      <td>0.235070</td>\n",
       "      <td>53.614000</td>\n",
       "      <td>48.969000</td>\n",
       "      <td>1.122500e+04</td>\n",
       "      <td>4.600400e+04</td>\n",
       "      <td>24.166067</td>\n",
       "      <td>10.563380</td>\n",
       "      <td>26.879810</td>\n",
       "      <td>23.282280</td>\n",
       "      <td>1.152000</td>\n",
       "      <td>0.394240</td>\n",
       "      <td>0.550150</td>\n",
       "      <td>3.120400e+04</td>\n",
       "      <td>1.286000e+04</td>\n",
       "      <td>7.881056</td>\n",
       "      <td>50.000000</td>\n",
       "      <td>50.000000</td>\n",
       "    </tr>\n",
       "    <tr>\n",
       "      <th>25%</th>\n",
       "      <td>47.407070</td>\n",
       "      <td>2176.002245</td>\n",
       "      <td>12.095085</td>\n",
       "      <td>69.393750</td>\n",
       "      <td>65.236500</td>\n",
       "      <td>1.550598e+06</td>\n",
       "      <td>1.558362e+06</td>\n",
       "      <td>49.517501</td>\n",
       "      <td>28.839503</td>\n",
       "      <td>80.888423</td>\n",
       "      <td>78.152200</td>\n",
       "      <td>20.128990</td>\n",
       "      <td>12.316820</td>\n",
       "      <td>0.951070</td>\n",
       "      <td>1.748190e+06</td>\n",
       "      <td>5.908680e+05</td>\n",
       "      <td>38.839622</td>\n",
       "      <td>58.000000</td>\n",
       "      <td>60.000000</td>\n",
       "    </tr>\n",
       "    <tr>\n",
       "      <th>50%</th>\n",
       "      <td>56.159300</td>\n",
       "      <td>6448.829193</td>\n",
       "      <td>16.078140</td>\n",
       "      <td>76.463500</td>\n",
       "      <td>70.764000</td>\n",
       "      <td>1.027662e+07</td>\n",
       "      <td>5.864950e+06</td>\n",
       "      <td>50.156430</td>\n",
       "      <td>34.255215</td>\n",
       "      <td>95.292065</td>\n",
       "      <td>95.491420</td>\n",
       "      <td>38.377930</td>\n",
       "      <td>25.606380</td>\n",
       "      <td>0.999090</td>\n",
       "      <td>5.455406e+06</td>\n",
       "      <td>2.406610e+06</td>\n",
       "      <td>43.748915</td>\n",
       "      <td>60.000000</td>\n",
       "      <td>60.000000</td>\n",
       "    </tr>\n",
       "    <tr>\n",
       "      <th>75%</th>\n",
       "      <td>67.372945</td>\n",
       "      <td>18930.218628</td>\n",
       "      <td>20.290850</td>\n",
       "      <td>80.475750</td>\n",
       "      <td>75.100000</td>\n",
       "      <td>5.783608e+07</td>\n",
       "      <td>4.058040e+07</td>\n",
       "      <td>50.873484</td>\n",
       "      <td>40.983605</td>\n",
       "      <td>101.684812</td>\n",
       "      <td>100.619777</td>\n",
       "      <td>54.774200</td>\n",
       "      <td>36.139776</td>\n",
       "      <td>1.001830</td>\n",
       "      <td>3.463928e+07</td>\n",
       "      <td>1.478335e+07</td>\n",
       "      <td>46.682712</td>\n",
       "      <td>64.000000</td>\n",
       "      <td>65.000000</td>\n",
       "    </tr>\n",
       "    <tr>\n",
       "      <th>max</th>\n",
       "      <td>100.000000</td>\n",
       "      <td>185829.017960</td>\n",
       "      <td>37.323270</td>\n",
       "      <td>87.700000</td>\n",
       "      <td>82.300000</td>\n",
       "      <td>7.673534e+09</td>\n",
       "      <td>3.803440e+09</td>\n",
       "      <td>54.564823</td>\n",
       "      <td>66.666670</td>\n",
       "      <td>225.927670</td>\n",
       "      <td>230.220260</td>\n",
       "      <td>87.833672</td>\n",
       "      <td>68.078506</td>\n",
       "      <td>1.047180</td>\n",
       "      <td>3.468097e+09</td>\n",
       "      <td>1.348504e+09</td>\n",
       "      <td>56.005859</td>\n",
       "      <td>70.000000</td>\n",
       "      <td>70.000000</td>\n",
       "    </tr>\n",
       "  </tbody>\n",
       "</table>\n",
       "</div>"
      ],
      "text/plain": [
       "       Females in NatSci/Math/Stats programs(%)  GDP Per Capita(current US$)  \\\n",
       "count                                223.000000                   981.000000   \n",
       "mean                                  55.923183                 16081.279274   \n",
       "std                                   15.711556                 23749.822875   \n",
       "min                                   10.695740                   261.247473   \n",
       "25%                                   47.407070                  2176.002245   \n",
       "50%                                   56.159300                  6448.829193   \n",
       "75%                                   67.372945                 18930.218628   \n",
       "max                                  100.000000                185829.017960   \n",
       "\n",
       "       Gov expenditure per student  Female Life Expectancy  \\\n",
       "count                   159.000000              736.000000   \n",
       "mean                     16.242152               74.755278   \n",
       "std                       6.521815                7.747380   \n",
       "min                       0.235070               53.614000   \n",
       "25%                      12.095085               69.393750   \n",
       "50%                      16.078140               76.463500   \n",
       "75%                      20.290850               80.475750   \n",
       "max                      37.323270               87.700000   \n",
       "\n",
       "       Male Life Expectancy    Population  Female Population  \\\n",
       "count            736.000000  1.048000e+03       9.560000e+02   \n",
       "mean              69.938647  3.061834e+08       1.664384e+08   \n",
       "std                7.196094  9.639405e+08       4.964256e+08   \n",
       "min               48.969000  1.122500e+04       4.600400e+04   \n",
       "25%               65.236500  1.550598e+06       1.558362e+06   \n",
       "50%               70.764000  1.027662e+07       5.864950e+06   \n",
       "75%               75.100000  5.783608e+07       4.058040e+07   \n",
       "max               82.300000  7.673534e+09       3.803440e+09   \n",
       "\n",
       "       Female Pop(% of total)  Females in STEM programs(%)  \\\n",
       "count              956.000000                   224.000000   \n",
       "mean                49.900085                    34.821329   \n",
       "std                  3.028768                     9.194310   \n",
       "min                 24.166067                    10.563380   \n",
       "25%                 49.517501                    28.839503   \n",
       "50%                 50.156430                    34.255215   \n",
       "75%                 50.873484                    40.983605   \n",
       "max                 54.564823                    66.666670   \n",
       "\n",
       "       Female Primary Graduation(%)  Male Primary Graduation(%)  \\\n",
       "count                    302.000000                  302.000000   \n",
       "mean                      89.258155                   88.479417   \n",
       "std                       21.916314                   21.521679   \n",
       "min                       26.879810                   23.282280   \n",
       "25%                       80.888423                   78.152200   \n",
       "50%                       95.292065                   95.491420   \n",
       "75%                      101.684812                  100.619777   \n",
       "max                      225.927670                  230.220260   \n",
       "\n",
       "       Female Tertiary Graduation(%)  Male Tertiary Graduation(%)  \\\n",
       "count                     233.000000                   232.000000   \n",
       "mean                       38.003553                    25.665988   \n",
       "std                        21.050899                    14.782116   \n",
       "min                         1.152000                     0.394240   \n",
       "25%                        20.128990                    12.316820   \n",
       "50%                        38.377930                    25.606380   \n",
       "75%                        54.774200                    36.139776   \n",
       "max                        87.833672                    68.078506   \n",
       "\n",
       "       Youth Literacy  Total Labor Force  Female Labor Force  \\\n",
       "count      293.000000       1.165000e+03        9.320000e+02   \n",
       "mean         0.970135       1.534065e+08        5.965637e+07   \n",
       "std          0.061729       4.576223e+08        1.764472e+08   \n",
       "min          0.550150       3.120400e+04        1.286000e+04   \n",
       "25%          0.951070       1.748190e+06        5.908680e+05   \n",
       "50%          0.999090       5.455406e+06        2.406610e+06   \n",
       "75%          1.001830       3.463928e+07        1.478335e+07   \n",
       "max          1.047180       3.468097e+09        1.348504e+09   \n",
       "\n",
       "       Female Labor Force (% of total)  Female Retirement Age  \\\n",
       "count                       932.000000             354.000000   \n",
       "mean                         40.933041              60.321610   \n",
       "std                           9.083822               4.255926   \n",
       "min                           7.881056              50.000000   \n",
       "25%                          38.839622              58.000000   \n",
       "50%                          43.748915              60.000000   \n",
       "75%                          46.682712              64.000000   \n",
       "max                          56.005859              70.000000   \n",
       "\n",
       "       Male Retirement Age  \n",
       "count           354.000000  \n",
       "mean             61.637006  \n",
       "std               3.741561  \n",
       "min              50.000000  \n",
       "25%              60.000000  \n",
       "50%              60.000000  \n",
       "75%              65.000000  \n",
       "max              70.000000  "
      ]
     },
     "execution_count": 95,
     "metadata": {},
     "output_type": "execute_result"
    }
   ],
   "source": [
    "data4.describe()"
   ]
  },
  {
   "cell_type": "code",
   "execution_count": null,
   "metadata": {},
   "outputs": [],
   "source": []
  },
  {
   "cell_type": "markdown",
   "metadata": {},
   "source": [
    "### Categorical Variables. \n",
    "\n",
    "The categorical questions are posed somewhat like survey questions for this dataset, with 1 representing yes and 0 representing no. "
   ]
  },
  {
   "cell_type": "code",
   "execution_count": 206,
   "metadata": {},
   "outputs": [],
   "source": [
    "job = data4['A woman can get a job in the same way as a man (1=yes; 0=no)'].groupby(data3['A woman can get a job in the same way as a man (1=yes; 0=no)']).count()"
   ]
  },
  {
   "cell_type": "code",
   "execution_count": 230,
   "metadata": {},
   "outputs": [
    {
     "data": {
      "image/png": "[encoded data removed]",
      "text/plain": [
       "<Figure size 432x288 with 1 Axes>"
      ]
     },
     "metadata": {
      "needs_background": "light"
     },
     "output_type": "display_data"
    }
   ],
   "source": [
    "job.plot.bar()\n",
    "plt.title('A woman can get a job in the same way as a man')\n",
    "plt.xlabel('1 for yes, 0 for no')\n",
    "\n",
    "plt.savefig('jobs.png')"
   ]
  },
  {
   "cell_type": "code",
   "execution_count": 207,
   "metadata": {},
   "outputs": [],
   "source": [
    "bank = data4['A woman can open a bank account in the same way as a man (1=yes; 0=no)'].groupby(data3['A woman can open a bank account in the same way as a man (1=yes; 0=no)']).count()"
   ]
  },
  {
   "cell_type": "code",
   "execution_count": 231,
   "metadata": {},
   "outputs": [
    {
     "data": {
      "image/png": "[encoded data removed]",
      "text/plain": [
       "<Figure size 432x288 with 1 Axes>"
      ]
     },
     "metadata": {
      "needs_background": "light"
     },
     "output_type": "display_data"
    }
   ],
   "source": [
    "bank.plot.bar()\n",
    "plt.title('A woman can open a bank account in the same way as a man')\n",
    "plt.xlabel('1 for yes, 0 for no')\n",
    "\n",
    "plt.savefig('bank.png')"
   ]
  },
  {
   "cell_type": "code",
   "execution_count": 219,
   "metadata": {},
   "outputs": [],
   "source": [
    "house = data4['A woman can choose where to live in the same way as a man (1=yes; 0=no)'].groupby(data3['A woman can choose where to live in the same way as a man (1=yes; 0=no)']).count()"
   ]
  },
  {
   "cell_type": "code",
   "execution_count": 232,
   "metadata": {},
   "outputs": [
    {
     "data": {
      "image/png": "[encoded data removed]",
      "text/plain": [
       "<Figure size 432x288 with 1 Axes>"
      ]
     },
     "metadata": {
      "needs_background": "light"
     },
     "output_type": "display_data"
    }
   ],
   "source": [
    "house.plot.bar()\n",
    "plt.title('A woman can choose where to live in the same way as a man')\n",
    "plt.xlabel('1 for yes, 0 for no')\n",
    "\n",
    "plt.savefig('house.png')"
   ]
  },
  {
   "cell_type": "code",
   "execution_count": 221,
   "metadata": {},
   "outputs": [],
   "source": [
    "assets = data4['Sons and daughters have equal rights to inherit assets from their parents (1=yes; 0=no)'].groupby(data3['Sons and daughters have equal rights to inherit assets from their parents (1=yes; 0=no)']).count()"
   ]
  },
  {
   "cell_type": "code",
   "execution_count": 233,
   "metadata": {},
   "outputs": [
    {
     "data": {
      "image/png": "[encoded data removed]",
      "text/plain": [
       "<Figure size 432x288 with 1 Axes>"
      ]
     },
     "metadata": {
      "needs_background": "light"
     },
     "output_type": "display_data"
    }
   ],
   "source": [
    "assets.plot.bar()\n",
    "plt.title('Sons and daughters have equal rights to inherit assets from their parents')\n",
    "plt.xlabel('1 for yes, 0 for no')\n",
    "\n",
    "plt.savefig('assets.png')"
   ]
  },
  {
   "cell_type": "markdown",
   "metadata": {},
   "source": [
    "### Correlation Table"
   ]
  },
  {
   "cell_type": "code",
   "execution_count": 197,
   "metadata": {},
   "outputs": [],
   "source": [
    "datacorr = pd.DataFrame(data4, columns = ('Sons and daughters have equal rights to inherit assets from their parents (1=yes; 0=no)', \n",
    "                        'A woman can get a job in the same way as a man (1=yes; 0=no)',\n",
    "                        'A woman can open a bank account in the same way as a man (1=yes; 0=no)',\n",
    "                        'A woman can choose where to live in the same way as a man (1=yes; 0=no)'))"
   ]
  },
  {
   "cell_type": "code",
   "execution_count": 199,
   "metadata": {},
   "outputs": [],
   "source": [
    "datacorr.replace('..', np.nan, inplace=True)"
   ]
  },
  {
   "cell_type": "code",
   "execution_count": 228,
   "metadata": {},
   "outputs": [],
   "source": [
    "#datacorr.astype(int)"
   ]
  },
  {
   "cell_type": "code",
   "execution_count": 201,
   "metadata": {},
   "outputs": [
    {
     "data": {
      "text/html": [
       "<div>\n",
       "<style scoped>\n",
       "    .dataframe tbody tr th:only-of-type {\n",
       "        vertical-align: middle;\n",
       "    }\n",
       "\n",
       "    .dataframe tbody tr th {\n",
       "        vertical-align: top;\n",
       "    }\n",
       "\n",
       "    .dataframe thead th {\n",
       "        text-align: right;\n",
       "    }\n",
       "</style>\n",
       "<table border=\"1\" class=\"dataframe\">\n",
       "  <thead>\n",
       "    <tr style=\"text-align: right;\">\n",
       "      <th></th>\n",
       "    </tr>\n",
       "  </thead>\n",
       "  <tbody>\n",
       "  </tbody>\n",
       "</table>\n",
       "</div>"
      ],
      "text/plain": [
       "Empty DataFrame\n",
       "Columns: []\n",
       "Index: []"
      ]
     },
     "execution_count": 201,
     "metadata": {},
     "output_type": "execute_result"
    }
   ],
   "source": [
    "datacorr.corr()"
   ]
  },
  {
   "cell_type": "code",
   "execution_count": 194,
   "metadata": {},
   "outputs": [],
   "source": [
    "sns.heatmap(datacorr.corr())"
   ]
  },
  {
   "cell_type": "markdown",
   "metadata": {},
   "source": [
    "### Visualizations"
   ]
  },
  {
   "cell_type": "code",
   "execution_count": 229,
   "metadata": {},
   "outputs": [
    {
     "data": {
      "image/png": "[encoded data removed]",
      "text/plain": [
       "<Figure size 360x360 with 1 Axes>"
      ]
     },
     "metadata": {
      "needs_background": "light"
     },
     "output_type": "display_data"
    }
   ],
   "source": [
    "sns.displot(data4['Females in STEM programs(%)'], kde='True', color = 'red')\n",
    "plt.savefig('STEM_dist1.png')"
   ]
  },
  {
   "cell_type": "code",
   "execution_count": 133,
   "metadata": {},
   "outputs": [
    {
     "data": {
      "image/png": "[encoded data removed]",
      "text/plain": [
       "<Figure size 360x360 with 1 Axes>"
      ]
     },
     "metadata": {
      "needs_background": "light"
     },
     "output_type": "display_data"
    }
   ],
   "source": [
    "sns.displot(data4['Youth Literacy'], kde='True', color = 'blue')\n",
    "plt.savefig('Literacy.png')"
   ]
  },
  {
   "cell_type": "code",
   "execution_count": 134,
   "metadata": {},
   "outputs": [
    {
     "data": {
      "image/png": "[encoded data removed]",
      "text/plain": [
       "<Figure size 432x288 with 1 Axes>"
      ]
     },
     "metadata": {
      "needs_background": "light"
     },
     "output_type": "display_data"
    }
   ],
   "source": [
    "h1 = plt.hist(data4['Gov expenditure per student'], bins = 10)\n",
    "plt.title('Government Expenditure Per Student')\n",
    "plt.savefig('GovExpenditure')"
   ]
  },
  {
   "cell_type": "code",
   "execution_count": 141,
   "metadata": {},
   "outputs": [],
   "source": [
    "#data4['Female Primary Graduation(%)'].sample(20)"
   ]
  },
  {
   "cell_type": "code",
   "execution_count": 143,
   "metadata": {},
   "outputs": [
    {
     "data": {
      "image/png": "[encoded data removed]",
      "text/plain": [
       "<Figure size 432x288 with 1 Axes>"
      ]
     },
     "metadata": {
      "needs_background": "light"
     },
     "output_type": "display_data"
    }
   ],
   "source": [
    "x = data4['Female Primary Graduation(%)']\n",
    "y = data4['Male Primary Graduation(%)']\n",
    "\n",
    "plt.scatter(x,y)\n",
    "plt.xlabel('Female Primary Graduation Rate')\n",
    "plt.ylabel('Male Primary Graduation Rate')\n",
    "plt.title('Scatter Plot (a)')\n",
    "\n",
    "plt.savefig('scatterA.png')"
   ]
  },
  {
   "cell_type": "code",
   "execution_count": 202,
   "metadata": {},
   "outputs": [
    {
     "data": {
      "image/png": "[encoded data removed]",
      "text/plain": [
       "<Figure size 432x288 with 1 Axes>"
      ]
     },
     "metadata": {
      "needs_background": "light"
     },
     "output_type": "display_data"
    }
   ],
   "source": [
    "x = data4['Female Pop(% of total)']\n",
    "y = data4['Female Population']\n",
    "\n",
    "plt.scatter(x,y)\n",
    "plt.xlabel('Female Pop(% of total)')\n",
    "plt.ylabel('Females in STEM programs(%)')\n",
    "plt.title('Scatter Plot (b)')\n",
    "\n",
    "plt.savefig('scatterB.png')"
   ]
  },
  {
   "cell_type": "code",
   "execution_count": 121,
   "metadata": {},
   "outputs": [
    {
     "data": {
      "text/plain": [
       "306183377.9336832"
      ]
     },
     "execution_count": 121,
     "metadata": {},
     "output_type": "execute_result"
    }
   ],
   "source": [
    "data4['Population'].mean()"
   ]
  },
  {
   "cell_type": "code",
   "execution_count": 153,
   "metadata": {},
   "outputs": [
    {
     "data": {
      "image/png": "[encoded data removed]",
      "text/plain": [
       "<Figure size 540x540 with 12 Axes>"
      ]
     },
     "metadata": {
      "needs_background": "light"
     },
     "output_type": "display_data"
    }
   ],
   "source": [
    "sns.pairplot(data4[['Female Pop(% of total)', 'Female Primary Graduation(%)', 'Male Primary Graduation(%)']])\n",
    "\n",
    "plt.savefig('pairplot1.png')"
   ]
  },
  {
   "cell_type": "code",
   "execution_count": 234,
   "metadata": {},
   "outputs": [],
   "source": [
    "data4.to_csv('IP4final.csv', index= False)"
   ]
  },
  {
   "cell_type": "code",
   "execution_count": null,
   "metadata": {},
   "outputs": [],
   "source": []
  }
 ],
 "metadata": {
  "kernelspec": {
   "display_name": "Python 3",
   "language": "python",
   "name": "python3"
  },
  "language_info": {
   "codemirror_mode": {
    "name": "ipython",
    "version": 3
   },
   "file_extension": ".py",
   "mimetype": "text/x-python",
   "name": "python",
   "nbconvert_exporter": "python",
   "pygments_lexer": "ipython3",
   "version": "3.8.5"
  }
 },
 "nbformat": 4,
 "nbformat_minor": 4
}
